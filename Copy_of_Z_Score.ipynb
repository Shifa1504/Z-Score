{
  "nbformat": 4,
  "nbformat_minor": 0,
  "metadata": {
    "colab": {
      "name": "Copy of Z-Score",
      "provenance": []
    },
    "kernelspec": {
      "name": "python3",
      "display_name": "Python 3"
    },
    "language_info": {
      "name": "python"
    }
  },
  "cells": [
    {
      "cell_type": "code",
      "execution_count": null,
      "metadata": {
        "id": "M6hb1dCItHzv"
      },
      "outputs": [],
      "source": [
        "import numpy as np\n",
        "import pandas as pd\n",
        "import scipy.stats as stats"
      ]
    },
    {
      "cell_type": "markdown",
      "source": [
        "Now first import library numpy or pandas and use scipy.stats library for z-score, scipy is also a module"
      ],
      "metadata": {
        "id": "B7GU9g8ztQqc"
      }
    },
    {
      "cell_type": "code",
      "source": [
        "data = np.array([5,6,6,18,15,15,19,22,17,20])"
      ],
      "metadata": {
        "id": "lPIM44p2t6ST"
      },
      "execution_count": null,
      "outputs": []
    },
    {
      "cell_type": "markdown",
      "source": [
        "Here we create an array of mvalues"
      ],
      "metadata": {
        "id": "PwkoEmZYucVL"
      }
    },
    {
      "cell_type": "code",
      "source": [
        "stats.zscore(data)"
      ],
      "metadata": {
        "colab": {
          "base_uri": "https://localhost:8080/"
        },
        "id": "Q2_jc7UHuXBS",
        "outputId": "33f35f43-46cc-4619-8bcc-e18dc54acdda"
      },
      "execution_count": null,
      "outputs": [
        {
          "output_type": "execute_result",
          "data": {
            "text/plain": [
              "array([-1.54978477, -1.38314124, -1.38314124,  0.61658104,  0.11665047,\n",
              "        0.11665047,  0.78322456,  1.28315513,  0.44993751,  0.94986808])"
            ]
          },
          "metadata": {},
          "execution_count": 5
        }
      ]
    }
  ]
}